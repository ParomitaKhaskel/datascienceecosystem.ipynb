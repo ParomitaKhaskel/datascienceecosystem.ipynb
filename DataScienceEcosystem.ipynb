{
 "cells": [
  {
   "cell_type": "markdown",
   "id": "49c0f47f",
   "metadata": {},
   "source": [
    "# **MY JUPYTER NOTEBOOK**"
   ]
  },
  {
   "cell_type": "markdown",
   "id": "5c2ec58d",
   "metadata": {},
   "source": [
    "I am currently a student.It is my jupyter notebook containing the problems given."
   ]
  },
  {
   "cell_type": "markdown",
   "id": "577c10b5",
   "metadata": {},
   "source": [
    "*I am interested in data science beacause I want to use data to solve various problems of the society.*"
   ]
  },
  {
   "cell_type": "markdown",
   "id": "1ee68911",
   "metadata": {},
   "source": [
    "### **The next code is supposed to**"
   ]
  },
  {
   "cell_type": "code",
   "execution_count": 1,
   "id": "640bab99",
   "metadata": {},
   "outputs": [
    {
     "data": {
      "text/plain": [
       "2"
      ]
     },
     "execution_count": 1,
     "metadata": {},
     "output_type": "execute_result"
    }
   ],
   "source": [
    "1+1"
   ]
  },
  {
   "cell_type": "markdown",
   "id": "c29cf2d9",
   "metadata": {},
   "source": [
    "### **List of data Science languages are**\n",
    "\n",
    "1.Python\n",
    "\n",
    "2.R Programming Language\n",
    "\n",
    "3.SQL"
   ]
  },
  {
   "cell_type": "markdown",
   "id": "bda118f7",
   "metadata": {},
   "source": [
    "### **List of DataScience Libraries are:**\n",
    "\n",
    "1.Tensorflow\n",
    "\n",
    "2.Pytorch\n",
    "\n",
    "3.Scikit-Learn"
   ]
  },
  {
   "cell_type": "markdown",
   "id": "916e1f43",
   "metadata": {},
   "source": [
    "### **Table of Tools of Data Science**"
   ]
  },
  {
   "cell_type": "markdown",
   "id": "e26d941a",
   "metadata": {},
   "source": [
    "| Category          | Tool                            | Description                                       |\n",
    "|-------------------|---------------------------------|---------------------------------------------------|\n",
    "| Programming       | Python                          | General-purpose programming language with rich data science libraries like pandas, numpy, scikit-learn |\n",
    "|                   | R                               | Statistical computing and graphics language with extensive data analysis packages |\n",
    "| Data Manipulation | pandas                          | Python library for data manipulation and analysis |\n",
    "|                   | dplyr                           | R package for efficient data manipulation       |\n",
    "| Data Visualization | Matplotlib                     | 2D plotting library for Python                  |\n",
    "|                   | ggplot2                         | R package for creating elegant and complex data visualizations |\n",
    "| Machine Learning  | scikit-learn                   | Machine learning library for Python             |\n",
    "|                   | TensorFlow                     | Open-source machine learning framework by Google |\n",
    "| Data Analysis     | Jupyter                        | Interactive notebook for data analysis in Python |\n",
    "|                   | RStudio                        | Integrated development environment for R       |\n"
   ]
  },
  {
   "cell_type": "markdown",
   "id": "2b5f8da9",
   "metadata": {},
   "source": [
    "#### Arithmetic Expression Example"
   ]
  },
  {
   "cell_type": "code",
   "execution_count": 11,
   "id": "dd2eaf0c",
   "metadata": {},
   "outputs": [
    {
     "data": {
      "text/plain": [
       "51"
      ]
     },
     "execution_count": 11,
     "metadata": {},
     "output_type": "execute_result"
    }
   ],
   "source": [
    " 5+8*6-2"
   ]
  },
  {
   "cell_type": "markdown",
   "id": "18b4c08e",
   "metadata": {},
   "source": [
    "#### Multiply and Add numbers"
   ]
  },
  {
   "cell_type": "code",
   "execution_count": 13,
   "id": "687d05ac",
   "metadata": {},
   "outputs": [
    {
     "name": "stdout",
     "output_type": "stream",
     "text": [
      "14\n",
      "40\n"
     ]
    }
   ],
   "source": [
    "print(7+7)\n",
    "print(8*5)"
   ]
  },
  {
   "cell_type": "markdown",
   "id": "267e0d41",
   "metadata": {},
   "source": [
    "#### Convert minutes to hours"
   ]
  },
  {
   "cell_type": "code",
   "execution_count": 16,
   "id": "82d6f13f",
   "metadata": {},
   "outputs": [
    {
     "name": "stdout",
     "output_type": "stream",
     "text": [
      "Enter minutes : 160\n",
      "2.6666666666666665\n"
     ]
    }
   ],
   "source": [
    "min=float(input(\"Enter minutes : \"))\n",
    "hour=min/60.0\n",
    "print(hour)"
   ]
  },
  {
   "cell_type": "markdown",
   "id": "6a200076",
   "metadata": {},
   "source": [
    "#### Objectives\n",
    "\n",
    "1.DataScience is a very important field\n",
    "\n",
    "2.DataScience is the sexiest job of 21st century"
   ]
  },
  {
   "cell_type": "markdown",
   "id": "5b59eb87",
   "metadata": {},
   "source": [
    "### Author's Name\n",
    "\n",
    "Paromita"
   ]
  },
  {
   "cell_type": "code",
   "execution_count": null,
   "id": "2d31dd2c",
   "metadata": {},
   "outputs": [],
   "source": []
  }
 ],
 "metadata": {
  "kernelspec": {
   "display_name": "Python 3 (ipykernel)",
   "language": "python",
   "name": "python3"
  },
  "language_info": {
   "codemirror_mode": {
    "name": "ipython",
    "version": 3
   },
   "file_extension": ".py",
   "mimetype": "text/x-python",
   "name": "python",
   "nbconvert_exporter": "python",
   "pygments_lexer": "ipython3",
   "version": "3.10.9"
  }
 },
 "nbformat": 4,
 "nbformat_minor": 5
}
